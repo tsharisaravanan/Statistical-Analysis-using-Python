{
 "cells": [
  {
   "cell_type": "markdown",
   "metadata": {},
   "source": [
    "## Python statistical library:"
   ]
  },
  {
   "cell_type": "markdown",
   "metadata": {},
   "source": [
    "+ **Statistics** is a built-in library in Python for descriptive statistics. We can use this library when dataset is not too large or **basic statistic operations**.\n",
    "+ **Numpy** is a third-party library for **numerical computation and optimizing the n dimensional array operations**. It has lot of built in statistical functions.\n",
    "+ **Scipy** is a third-party library for **scientific computation** on top of Numpy library. It offers scientific and more statistics functions compare to Numpy."
   ]
  },
  {
   "cell_type": "markdown",
   "metadata": {},
   "source": [
    "### not a number (nan) value:"
   ]
  },
  {
   "cell_type": "markdown",
   "metadata": {},
   "source": [
    "When we have a missing observation va"
   ]
  }
 ],
 "metadata": {
  "kernelspec": {
   "display_name": "Python 3",
   "language": "python",
   "name": "python3"
  },
  "language_info": {
   "codemirror_mode": {
    "name": "ipython",
    "version": 3
   },
   "file_extension": ".py",
   "mimetype": "text/x-python",
   "name": "python",
   "nbconvert_exporter": "python",
   "pygments_lexer": "ipython3",
   "version": "3.7.6"
  }
 },
 "nbformat": 4,
 "nbformat_minor": 4
}
